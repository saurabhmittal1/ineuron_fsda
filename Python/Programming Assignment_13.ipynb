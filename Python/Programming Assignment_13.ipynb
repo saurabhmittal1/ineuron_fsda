{
 "cells": [
  {
   "cell_type": "markdown",
   "id": "62fd0c8e",
   "metadata": {},
   "source": [
    "# Python Programming Basic Assignment 13"
   ]
  },
  {
   "cell_type": "markdown",
   "id": "ed4a3c0b",
   "metadata": {},
   "source": [
    "\n",
    "### 1. Write a program that calculates and prints the value according to the given formula:\n",
    "Q = Square root of [(2 C D)/H]\n",
    "\n",
    "Following are the fixed values of C and H:\n",
    "\n",
    "C is 50. H is 30.\n",
    "\n",
    "D is the variable whose values should be input to your program in a comma-separated sequence.\n",
    "\n",
    "Example\n",
    "\n",
    "Let us assume the following comma separated input sequence is given to the program:\n",
    "\n",
    "100,150,180\n",
    "\n",
    "The output of the program should be:\n",
    "\n",
    "18,22,24"
   ]
  },
  {
   "cell_type": "code",
   "execution_count": 9,
   "id": "a1c33121",
   "metadata": {},
   "outputs": [
    {
     "name": "stdout",
     "output_type": "stream",
     "text": [
      "Enter Comma-separated sequence:  100,150,180\n"
     ]
    },
    {
     "data": {
      "text/plain": [
       "[18, 22, 24]"
      ]
     },
     "execution_count": 9,
     "metadata": {},
     "output_type": "execute_result"
    }
   ],
   "source": [
    "def sq_rt():\n",
    "    \n",
    "    #Sequence\n",
    "    a = input(\"Enter Comma-separated sequence:  \")\n",
    "    a = a.split(\",\")\n",
    "    \n",
    "    #Fixed Values\n",
    "    c,h = 50,30\n",
    "    \n",
    "    result = []\n",
    "    \n",
    "    for d in a:\n",
    "        result.append(round(((2*c*int(d))/h)**(1/2)))\n",
    "        \n",
    "    return result\n",
    "\n",
    "sq_rt()"
   ]
  },
  {
   "cell_type": "markdown",
   "id": "ed37b6ed",
   "metadata": {},
   "source": [
    "### 2. Write a program which takes 2 digits, X,Y as input and generates a 2-dimensional array. The element value in the i-th row and j-th column of the array should be i*j."
   ]
  },
  {
   "cell_type": "code",
   "execution_count": 15,
   "id": "215388f9",
   "metadata": {},
   "outputs": [
    {
     "name": "stdout",
     "output_type": "stream",
     "text": [
      "Enter values for row and column number: 15,10\n",
      "\n"
     ]
    },
    {
     "data": {
      "text/plain": [
       "[[0, 0, 0, 0, 0, 0, 0, 0, 0, 0],\n",
       " [0, 1, 2, 3, 4, 5, 6, 7, 8, 9],\n",
       " [0, 2, 4, 6, 8, 10, 12, 14, 16, 18],\n",
       " [0, 3, 6, 9, 12, 15, 18, 21, 24, 27],\n",
       " [0, 4, 8, 12, 16, 20, 24, 28, 32, 36],\n",
       " [0, 5, 10, 15, 20, 25, 30, 35, 40, 45],\n",
       " [0, 6, 12, 18, 24, 30, 36, 42, 48, 54],\n",
       " [0, 7, 14, 21, 28, 35, 42, 49, 56, 63],\n",
       " [0, 8, 16, 24, 32, 40, 48, 56, 64, 72],\n",
       " [0, 9, 18, 27, 36, 45, 54, 63, 72, 81],\n",
       " [0, 10, 20, 30, 40, 50, 60, 70, 80, 90],\n",
       " [0, 11, 22, 33, 44, 55, 66, 77, 88, 99],\n",
       " [0, 12, 24, 36, 48, 60, 72, 84, 96, 108],\n",
       " [0, 13, 26, 39, 52, 65, 78, 91, 104, 117],\n",
       " [0, 14, 28, 42, 56, 70, 84, 98, 112, 126]]"
      ]
     },
     "execution_count": 15,
     "metadata": {},
     "output_type": "execute_result"
    }
   ],
   "source": [
    "def dim_array():\n",
    "    user_input = input(\"Enter values for row and column number: \")\n",
    "    rows, cols = user_input.split(\",\")\n",
    "    rows, cols = int(rows), int(cols)\n",
    "    \n",
    "    result = []\n",
    "    for x in range(rows):\n",
    "        row = []\n",
    "        for y in range(cols):\n",
    "            row.append(x * y)\n",
    "        result.append(row)\n",
    "        \n",
    "\n",
    "    print()\n",
    "    return result\n",
    "\n",
    "dim_array()"
   ]
  },
  {
   "cell_type": "markdown",
   "id": "bc7f977b",
   "metadata": {},
   "source": [
    "### 3. Write a program that accepts a comma separated sequence of words as input and prints the words in a comma-separated sequence after sorting them alphabetically."
   ]
  },
  {
   "cell_type": "code",
   "execution_count": 21,
   "id": "380a863d",
   "metadata": {},
   "outputs": [
    {
     "name": "stdout",
     "output_type": "stream",
     "text": [
      "Enter comma seperated words: sa, za, da, aa\n",
      "The output of the program should be=\n"
     ]
    },
    {
     "data": {
      "text/plain": [
       "'aa, da, sa, za'"
      ]
     },
     "execution_count": 21,
     "metadata": {},
     "output_type": "execute_result"
    }
   ],
   "source": [
    "def sort_comma_alpha():\n",
    "    item = input('Enter comma seperated words: ')\n",
    "    items = [x.strip() for x in item.split(\",\")]\n",
    "    items.sort()\n",
    "    print(\"The output of the program should be=\")\n",
    "    return ', '.join(items)\n",
    "    \n",
    "sort_comma_alpha()"
   ]
  },
  {
   "cell_type": "markdown",
   "id": "171c3d90",
   "metadata": {},
   "source": [
    "### 4. Write a program that accepts a sequence of whitespace separated words as input and prints the words after removing all duplicate words and sorting them alphanumerically."
   ]
  },
  {
   "cell_type": "code",
   "execution_count": 23,
   "id": "375b154c",
   "metadata": {},
   "outputs": [
    {
     "name": "stdout",
     "output_type": "stream",
     "text": [
      "Enter space sepeated words saurabh hello world mittal hello saurabh mittal\n"
     ]
    },
    {
     "data": {
      "text/plain": [
       "'hello mittal saurabh world'"
      ]
     },
     "execution_count": 23,
     "metadata": {},
     "output_type": "execute_result"
    }
   ],
   "source": [
    "def alpha_sort():\n",
    "    item = input('Enter space sepeated words: ')\n",
    "    items = [x for x in item.split(' ')]\n",
    "    return ' '.join(sorted(list(set(items))))\n",
    "\n",
    "alpha_sort()"
   ]
  },
  {
   "cell_type": "markdown",
   "id": "88d25c49",
   "metadata": {},
   "source": [
    "### 5. Write a program that accepts a sentence and calculate the number of letters and digits."
   ]
  },
  {
   "cell_type": "code",
   "execution_count": 26,
   "id": "136902c1",
   "metadata": {},
   "outputs": [
    {
     "name": "stdout",
     "output_type": "stream",
     "text": [
      "Enter a sentence: saurabh hello word 1212\n",
      "Number of letter are 16 and Number of Digits are 4\n"
     ]
    }
   ],
   "source": [
    "def count_letter_digit():\n",
    "    \n",
    "    a = input(\"Enter a sentence: \")\n",
    "    \n",
    "    digit = letter = 0\n",
    "    \n",
    "    for i in a:\n",
    "        if i.isdigit():\n",
    "            digit += 1\n",
    "            \n",
    "        elif i.isalpha():\n",
    "            letter += 1\n",
    "            \n",
    "        else:\n",
    "            pass\n",
    "    \n",
    "    return print(\"Number of letter are {} and Number of Digits are {}\".format(letter, digit))\n",
    "\n",
    "count_letter_digit()"
   ]
  },
  {
   "cell_type": "markdown",
   "id": "9695c4ca",
   "metadata": {},
   "source": [
    "### 6. A website requires the users to input username and password to register. Write a program to check the validity of password input by users."
   ]
  },
  {
   "cell_type": "code",
   "execution_count": 37,
   "id": "9ed1b5a2",
   "metadata": {},
   "outputs": [
    {
     "name": "stdout",
     "output_type": "stream",
     "text": [
      "Enter your password : Saurabh@1232\n",
      "Valid Password\n"
     ]
    }
   ],
   "source": [
    "import re\n",
    "def password():    \n",
    "    password= input(\"Enter your password : \")\n",
    "    x = True\n",
    "    while x:  \n",
    "        if (len(password) < 6 or len(password) > 12):\n",
    "            break\n",
    "        elif not re.search(\"[a-z]\",password):\n",
    "            break\n",
    "        elif not re.search(\"[0-9]\",password):\n",
    "            break\n",
    "        elif not re.search(\"[A-Z]\",password):\n",
    "            break\n",
    "        elif not re.search(\"[$#@]\",password):\n",
    "            break\n",
    "        elif re.search(\"\\s\",password):\n",
    "            break\n",
    "        else:\n",
    "            print(\"Valid Password\")\n",
    "            x=False\n",
    "            break\n",
    "\n",
    "    if x:\n",
    "        print(\"Not a Valid Password\")\n",
    "        \n",
    "password()"
   ]
  },
  {
   "cell_type": "code",
   "execution_count": null,
   "id": "aa88982e",
   "metadata": {},
   "outputs": [],
   "source": []
  }
 ],
 "metadata": {
  "kernelspec": {
   "display_name": "Python 3 (ipykernel)",
   "language": "python",
   "name": "python3"
  },
  "language_info": {
   "codemirror_mode": {
    "name": "ipython",
    "version": 3
   },
   "file_extension": ".py",
   "mimetype": "text/x-python",
   "name": "python",
   "nbconvert_exporter": "python",
   "pygments_lexer": "ipython3",
   "version": "3.9.7"
  }
 },
 "nbformat": 4,
 "nbformat_minor": 5
}
