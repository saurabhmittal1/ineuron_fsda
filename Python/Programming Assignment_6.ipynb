{
 "cells": [
  {
   "cell_type": "markdown",
   "id": "84a41a9f",
   "metadata": {},
   "source": [
    "# Programming Basic Assignment 6"
   ]
  },
  {
   "cell_type": "markdown",
   "id": "a4b40558",
   "metadata": {},
   "source": [
    "### 1. Write a Python Program to Display Fibonacci Sequence Using Recursion?"
   ]
  },
  {
   "cell_type": "code",
   "execution_count": 15,
   "id": "c48c00c3",
   "metadata": {},
   "outputs": [
    {
     "name": "stdout",
     "output_type": "stream",
     "text": [
      "Please enter a number: 15\n",
      "0\n",
      "1\n",
      "1\n",
      "2\n",
      "3\n",
      "5\n",
      "8\n",
      "13\n",
      "21\n",
      "34\n",
      "55\n",
      "89\n",
      "144\n",
      "233\n",
      "377\n"
     ]
    }
   ],
   "source": [
    "def fibo():\n",
    "        n = int(input(\"Please enter a number: \"))\n",
    "        def recur_fibo(n):\n",
    "            if n <= 1:\n",
    "                return n\n",
    "            else:\n",
    "                return recur_fibo(n-1) + recur_fibo(n-2)\n",
    "\n",
    "        for i in range(n):\n",
    "            print(recur_fibo(i))\n",
    "            \n",
    "fibo()"
   ]
  },
  {
   "cell_type": "markdown",
   "id": "d7a57f60",
   "metadata": {},
   "source": [
    "### 2. Write a Python Program to Find Factorial of Number Using Recursion?"
   ]
  },
  {
   "cell_type": "code",
   "execution_count": 16,
   "id": "8aac932a",
   "metadata": {},
   "outputs": [
    {
     "name": "stdout",
     "output_type": "stream",
     "text": [
      "Please enter a number: 15\n",
      "Factorial is  362880\n"
     ]
    }
   ],
   "source": [
    "def factorial():\n",
    "        n = int(input(\"Please enter a number: \"))\n",
    "        def recur_factorial(n):\n",
    "            if n == 1:\n",
    "                return n\n",
    "            else:\n",
    "                return n*recur_factorial(n-1)\n",
    "\n",
    "        if n<0:\n",
    "            print(\"Factorial not possible\")\n",
    "        elif n==1:\n",
    "            print(\"Factorial is 1\")\n",
    "        else:\n",
    "            print(\"Factorial is \",recur_factorial(i))\n",
    "            \n",
    "factorial()"
   ]
  },
  {
   "cell_type": "markdown",
   "id": "0357b86f",
   "metadata": {},
   "source": [
    "### 3. Write a Python Program to calculate your Body Mass Index?"
   ]
  },
  {
   "cell_type": "code",
   "execution_count": 20,
   "id": "8cfcab61",
   "metadata": {},
   "outputs": [
    {
     "name": "stdout",
     "output_type": "stream",
     "text": [
      "Please input you height: 153\n",
      "Please input your weight: 65\n",
      "Overweight.\n"
     ]
    }
   ],
   "source": [
    "def bmi():\n",
    "    h = float(input(\"Please input you height: \"))\n",
    "    w = float(input(\"Please input your weight: \"))\n",
    "    \n",
    "    b = w/ (h/100)**2\n",
    "    \n",
    "    if b <= 18.5:  \n",
    "        print(\"Underweight.\")  \n",
    "    elif b <= 24.9:  \n",
    "        print(\"Healthy.\")  \n",
    "    elif b <= 29.9:  \n",
    "        print(\"Overweight.\")  \n",
    "    else:  \n",
    "        print(\"Obese.\")\n",
    "        \n",
    "bmi()"
   ]
  },
  {
   "cell_type": "markdown",
   "id": "96d344a4",
   "metadata": {},
   "source": [
    "### 4. Write a Python Program to calculate the natural logarithm of any number?"
   ]
  },
  {
   "cell_type": "code",
   "execution_count": 21,
   "id": "5cb8dacc",
   "metadata": {},
   "outputs": [
    {
     "name": "stdout",
     "output_type": "stream",
     "text": [
      "Please enter a number: 15\n",
      "Natural Logarithm of  15  is  2.70805020110221\n"
     ]
    }
   ],
   "source": [
    "import numpy as np\n",
    "\n",
    "a = int(input(\"Please enter a number: \"))\n",
    "\n",
    "print(\"Natural Logarithm of \",a, \" is \", np.log(a))"
   ]
  },
  {
   "cell_type": "markdown",
   "id": "11c0d92c",
   "metadata": {},
   "source": [
    "\n",
    "### 5. Write a Python Program for cube sum of first n natural numbers?\n"
   ]
  },
  {
   "cell_type": "code",
   "execution_count": 23,
   "id": "0554205b",
   "metadata": {},
   "outputs": [
    {
     "name": "stdout",
     "output_type": "stream",
     "text": [
      "How many terms you need Cube sum of? - 5\n"
     ]
    },
    {
     "data": {
      "text/plain": [
       "225"
      ]
     },
     "execution_count": 23,
     "metadata": {},
     "output_type": "execute_result"
    }
   ],
   "source": [
    "def sum_natural_num():\n",
    "    n = int(input(\"How many terms you need Cube sum of? - \"))\n",
    "    x = (n * (n+1))/2\n",
    "    return int(x*x)\n",
    "\n",
    "sum_natural_num()"
   ]
  },
  {
   "cell_type": "code",
   "execution_count": null,
   "id": "c929a67f",
   "metadata": {},
   "outputs": [],
   "source": []
  }
 ],
 "metadata": {
  "kernelspec": {
   "display_name": "Python 3 (ipykernel)",
   "language": "python",
   "name": "python3"
  },
  "language_info": {
   "codemirror_mode": {
    "name": "ipython",
    "version": 3
   },
   "file_extension": ".py",
   "mimetype": "text/x-python",
   "name": "python",
   "nbconvert_exporter": "python",
   "pygments_lexer": "ipython3",
   "version": "3.9.13"
  }
 },
 "nbformat": 4,
 "nbformat_minor": 5
}
