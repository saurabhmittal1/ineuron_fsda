{
 "cells": [
  {
   "cell_type": "markdown",
   "id": "20cb4340",
   "metadata": {},
   "source": [
    "## Programming Assignment_4\n",
    "----------------"
   ]
  },
  {
   "cell_type": "markdown",
   "id": "4fdb6695",
   "metadata": {},
   "source": [
    "### 1. Write a Python Program to Find the Factorial of a Number?"
   ]
  },
  {
   "cell_type": "code",
   "execution_count": 4,
   "id": "975f26cf",
   "metadata": {},
   "outputs": [
    {
     "name": "stdout",
     "output_type": "stream",
     "text": [
      "Enter a number: 5\n",
      "Factorial is  120\n"
     ]
    }
   ],
   "source": [
    "def factorial():\n",
    "    a = int(input(\"Enter a number: \"))\n",
    "    b = 1\n",
    "    if a > 1:\n",
    "        for i in range(1, a+1):\n",
    "            b = b*i\n",
    "        print(\"Factorial is \",b)\n",
    "            \n",
    "    else:\n",
    "        print(\"factorial is not possible\")\n",
    "        \n",
    "factorial()"
   ]
  },
  {
   "cell_type": "markdown",
   "id": "e6beef62",
   "metadata": {},
   "source": [
    "### 2. Write a Python Program to Display the multiplication Table?"
   ]
  },
  {
   "cell_type": "code",
   "execution_count": 6,
   "id": "5ef60db9",
   "metadata": {},
   "outputs": [
    {
     "name": "stdout",
     "output_type": "stream",
     "text": [
      "Enter a number you need table for: 2\n",
      "Enter a number until you need multiple: 10\n",
      "2 x 1 = 2\n",
      "2 x 2 = 4\n",
      "2 x 3 = 6\n",
      "2 x 4 = 8\n",
      "2 x 5 = 10\n",
      "2 x 6 = 12\n",
      "2 x 7 = 14\n",
      "2 x 8 = 16\n",
      "2 x 9 = 18\n",
      "2 x 10 = 20\n"
     ]
    }
   ],
   "source": [
    "def table():\n",
    "    a = int(input(\"Enter a number you need table for: \"))\n",
    "    b = int(input(\"Enter a number until you need multiple: \"))\n",
    "    \n",
    "    for i in range(1, b+1):\n",
    "        print(a, 'x', i, '=', a*i)\n",
    "        \n",
    "table()"
   ]
  },
  {
   "cell_type": "markdown",
   "id": "7de7eba5",
   "metadata": {},
   "source": [
    "### 3. Write a Python Program to Print the Fibonacci sequence?\n"
   ]
  },
  {
   "cell_type": "code",
   "execution_count": 10,
   "id": "f79f0809",
   "metadata": {},
   "outputs": [
    {
     "name": "stdout",
     "output_type": "stream",
     "text": [
      "How many terms? 5\n",
      "0\n",
      "1\n",
      "1\n",
      "2\n",
      "3\n"
     ]
    }
   ],
   "source": [
    "terms = int(input(\"How many terms? \"))\n",
    "\n",
    "n1, n2 = 0,1\n",
    "count = 0\n",
    "\n",
    "if terms >1:\n",
    "    while count < terms:\n",
    "        print(n1)\n",
    "        n = n1 + n2\n",
    "        # update values\n",
    "        n1 = n2\n",
    "        n2 = n\n",
    "        count += 1\n",
    "\n",
    "elif terms == 1:\n",
    "        print(n1)\n",
    "        \n",
    "else:\n",
    "    Print(\"Please enter positive number greater than 1\")"
   ]
  },
  {
   "cell_type": "markdown",
   "id": "0446442e",
   "metadata": {},
   "source": [
    "### 4. Write a Python Program to Check Armstrong Number?"
   ]
  },
  {
   "cell_type": "code",
   "execution_count": 20,
   "id": "dd139a54",
   "metadata": {},
   "outputs": [
    {
     "name": "stdout",
     "output_type": "stream",
     "text": [
      "Enter a number: 153\n",
      "153 is an Armstrong number\n"
     ]
    }
   ],
   "source": [
    "num = int(input(\"Enter a number: \"))\n",
    "add = 0\n",
    "\n",
    "a = num\n",
    "while a > 0:\n",
    "    digit = a % 10\n",
    "    add += digit ** 3\n",
    "    a //= 10\n",
    "\n",
    "# display the result\n",
    "if num == add:\n",
    "    print(num,\"is an Armstrong number\")\n",
    "else:\n",
    "    print(num,\"is not an Armstrong number\")"
   ]
  },
  {
   "cell_type": "markdown",
   "id": "a6f9adfe",
   "metadata": {},
   "source": [
    "### 5. Write a Python Program to Find Armstrong Number in an Interval?"
   ]
  },
  {
   "cell_type": "code",
   "execution_count": 29,
   "id": "715ad1e6",
   "metadata": {},
   "outputs": [
    {
     "name": "stdout",
     "output_type": "stream",
     "text": [
      "[1, 2, 3, 4, 5, 6, 7, 8, 9, 153, 370, 371, 407, 1634]\n"
     ]
    }
   ],
   "source": [
    "lower = 1\n",
    "upper = 2000\n",
    "\n",
    "li = [] #list\n",
    "\n",
    "for i in range(lower, upper + 1):\n",
    "    \n",
    "    count = len(str(i)) #Length of Number\n",
    "    add = 0\n",
    "    a = i\n",
    "    \n",
    "    #Condition to be a Armstrong number\n",
    "    while a > 0:\n",
    "        digit = a % 10\n",
    "        add += digit ** count\n",
    "        a //= 10\n",
    "\n",
    "    # display the result\n",
    "    if i == add:\n",
    "        li.append(add)\n",
    "\n",
    "print(li)"
   ]
  },
  {
   "cell_type": "markdown",
   "id": "157cad60",
   "metadata": {},
   "source": [
    "### 6. Write a Python Program to Find the Sum of Natural Numbers?"
   ]
  },
  {
   "cell_type": "code",
   "execution_count": 33,
   "id": "b5fea0c8",
   "metadata": {},
   "outputs": [
    {
     "name": "stdout",
     "output_type": "stream",
     "text": [
      "Enter a number: 15\n",
      "120\n"
     ]
    }
   ],
   "source": [
    "def sum_of_natural_number():\n",
    "    a = int(input(\"Enter a number: \"))\n",
    "    \n",
    "    if a > 0:\n",
    "        add = 0\n",
    "        while a>0:\n",
    "            add += a\n",
    "            a -= 1\n",
    "        print(add)\n",
    "\n",
    "sum_of_natural_number()"
   ]
  },
  {
   "cell_type": "code",
   "execution_count": null,
   "id": "214aa905",
   "metadata": {},
   "outputs": [],
   "source": []
  }
 ],
 "metadata": {
  "kernelspec": {
   "display_name": "Python 3 (ipykernel)",
   "language": "python",
   "name": "python3"
  },
  "language_info": {
   "codemirror_mode": {
    "name": "ipython",
    "version": 3
   },
   "file_extension": ".py",
   "mimetype": "text/x-python",
   "name": "python",
   "nbconvert_exporter": "python",
   "pygments_lexer": "ipython3",
   "version": "3.9.13"
  }
 },
 "nbformat": 4,
 "nbformat_minor": 5
}
