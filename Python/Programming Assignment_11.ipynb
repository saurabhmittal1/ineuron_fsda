{
 "cells": [
  {
   "cell_type": "markdown",
   "id": "53c7e882",
   "metadata": {},
   "source": [
    "# Python Basic Programming Assignment 11\n",
    "--------------------"
   ]
  },
  {
   "cell_type": "markdown",
   "id": "051da140",
   "metadata": {},
   "source": [
    "### 1. Write a Python program to find words which are greater than given length k?"
   ]
  },
  {
   "cell_type": "code",
   "execution_count": 1,
   "id": "7ebe3f2b",
   "metadata": {},
   "outputs": [
    {
     "name": "stdout",
     "output_type": "stream",
     "text": [
      "['Write', 'Python', 'program', 'find', 'words', 'which', 'greater', 'than', 'given', 'length']\n"
     ]
    }
   ],
   "source": [
    "def word_greater_than_k(li, k):\n",
    "    result = []\n",
    "    for i in li.split(\" \"):\n",
    "        if k < len(i):\n",
    "            result.append(i)\n",
    "            \n",
    "    return print(result)\n",
    "\n",
    "li = \"Write a Python program to find words which are greater than given length k?\"\n",
    "\n",
    "word_greater_than_k(li, 3)"
   ]
  },
  {
   "cell_type": "markdown",
   "id": "26719cbd",
   "metadata": {},
   "source": [
    "### 2. Write a Python program for removing i-th character from a string?"
   ]
  },
  {
   "cell_type": "code",
   "execution_count": 2,
   "id": "c66b6830",
   "metadata": {},
   "outputs": [
    {
     "data": {
      "text/plain": [
       "'remving'"
      ]
     },
     "execution_count": 2,
     "metadata": {},
     "output_type": "execute_result"
    }
   ],
   "source": [
    "def remove_ith_charachter(word, n):\n",
    "    return word[:n-1]+word[n:]\n",
    "\n",
    "remove_ith_charachter(\"removing\", 4)"
   ]
  },
  {
   "cell_type": "markdown",
   "id": "51ae6b0f",
   "metadata": {},
   "source": [
    "### 3. Write a Python program to split and join a string?"
   ]
  },
  {
   "cell_type": "code",
   "execution_count": 3,
   "id": "b22e7125",
   "metadata": {},
   "outputs": [
    {
     "data": {
      "text/plain": [
       "'Write a Python program to find words which are greater than given length k?'"
      ]
     },
     "execution_count": 3,
     "metadata": {},
     "output_type": "execute_result"
    }
   ],
   "source": [
    "def split_and_join(li):\n",
    "    split = li.split(\" \") #Split the sentense\n",
    "    return ' '.join(split) #Join it using space\n",
    "\n",
    "split_and_join(li)"
   ]
  },
  {
   "cell_type": "markdown",
   "id": "59079fe1",
   "metadata": {},
   "source": [
    "### 4. Write a Python to check if a given string is binary string or not?"
   ]
  },
  {
   "cell_type": "code",
   "execution_count": 6,
   "id": "9f151e04",
   "metadata": {},
   "outputs": [
    {
     "name": "stdout",
     "output_type": "stream",
     "text": [
      "1010101111100001111001100110101 is binary\n"
     ]
    }
   ],
   "source": [
    "a = '1010101111100001111001100110101'\n",
    "b = set(a)\n",
    "c = {'0','1'}\n",
    "if b == c or b == {'0'} or b == {'1'}:\n",
    "    print('{} is binary'.format(a))\n",
    "else:\n",
    "    print('{} is not binary'.format(a))"
   ]
  },
  {
   "cell_type": "markdown",
   "id": "4d6cf11a",
   "metadata": {},
   "source": [
    "### 5. Write a Python program to find uncommon words from two Strings?"
   ]
  },
  {
   "cell_type": "code",
   "execution_count": 8,
   "id": "cec932ac",
   "metadata": {},
   "outputs": [
    {
     "data": {
      "text/plain": [
       "['first', 'second']"
      ]
     },
     "execution_count": 8,
     "metadata": {},
     "output_type": "execute_result"
    }
   ],
   "source": [
    "def Uncommon_Words(A, B):\n",
    "    \n",
    "    a = A.split()\n",
    "    b = B.split()\n",
    "    \n",
    "    result = []\n",
    "    \n",
    "    for i in a:\n",
    "        if i not in b:\n",
    "            result.append(i)\n",
    "    \n",
    "    for i in b:\n",
    "        if i not in a:\n",
    "            result.append(i)\n",
    "    \n",
    "    return result\n",
    "\n",
    "a = \"This is first string variable\"\n",
    "b = \"This is second string variable\"\n",
    "\n",
    "Uncommon_Words(a, b)"
   ]
  },
  {
   "cell_type": "markdown",
   "id": "e2b24677",
   "metadata": {},
   "source": [
    "### 6. Write a Python to find all duplicate characters in string?"
   ]
  },
  {
   "cell_type": "code",
   "execution_count": 17,
   "id": "afed4d22",
   "metadata": {},
   "outputs": [
    {
     "name": "stdout",
     "output_type": "stream",
     "text": [
      "{'r', 'a', 's', 't', 'i'}\n"
     ]
    }
   ],
   "source": [
    "def duplicate_Words(a):\n",
    "    \n",
    "    result = []\n",
    "    a = ''.join(a.lower().split())\n",
    "    \n",
    "    for i in range(0,len(a)):\n",
    "        for j in range(i+1,len(a)):\n",
    "            if a[i]==a[j]:\n",
    "                result.append(a[i])\n",
    "    \n",
    "    return print(set(result))\n",
    "\n",
    "a = \"This is first string variable\"\n",
    "b = \"This is second string variable\"\n",
    "\n",
    "duplicate_Words(a)"
   ]
  },
  {
   "cell_type": "markdown",
   "id": "1a6af7e4",
   "metadata": {},
   "source": [
    "### 7. Write a Python Program to check if a string contains any special character?"
   ]
  },
  {
   "cell_type": "code",
   "execution_count": 20,
   "id": "ba12a620",
   "metadata": {},
   "outputs": [
    {
     "name": "stdout",
     "output_type": "stream",
     "text": [
      "string Has Special Character\n"
     ]
    }
   ],
   "source": [
    "n=\"Write a Python Program to check if a string contains any special character?\"\n",
    "n.split()\n",
    "\n",
    "special = False\n",
    "s='[@_!#$%^&*()<>?/\\|}{~:]' # special character set\n",
    "for i in range(len(n)):\n",
    "    \n",
    "    if n[i] in s:\n",
    "        c = True   \n",
    "\n",
    "if c:\n",
    "    print(\"string Has Special Character\")\n",
    "else:\n",
    "    print(\"string does not have Special Character\")"
   ]
  },
  {
   "cell_type": "code",
   "execution_count": null,
   "id": "4493f294",
   "metadata": {},
   "outputs": [],
   "source": []
  }
 ],
 "metadata": {
  "kernelspec": {
   "display_name": "Python 3 (ipykernel)",
   "language": "python",
   "name": "python3"
  },
  "language_info": {
   "codemirror_mode": {
    "name": "ipython",
    "version": 3
   },
   "file_extension": ".py",
   "mimetype": "text/x-python",
   "name": "python",
   "nbconvert_exporter": "python",
   "pygments_lexer": "ipython3",
   "version": "3.9.7"
  }
 },
 "nbformat": 4,
 "nbformat_minor": 5
}
