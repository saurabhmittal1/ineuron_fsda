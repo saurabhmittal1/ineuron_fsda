{
 "cells": [
  {
   "cell_type": "markdown",
   "id": "4ac9602a",
   "metadata": {},
   "source": [
    "## Python Basic Programming Assignment - 5\n",
    "--------------\n"
   ]
  },
  {
   "cell_type": "markdown",
   "id": "fdaeee06",
   "metadata": {},
   "source": [
    "### 1. Write a Python Program to Find LCM?"
   ]
  },
  {
   "cell_type": "code",
   "execution_count": 3,
   "id": "44a20487",
   "metadata": {},
   "outputs": [
    {
     "name": "stdout",
     "output_type": "stream",
     "text": [
      "Please enter a number: 12\n",
      "Please enter a number: 18\n"
     ]
    },
    {
     "data": {
      "text/plain": [
       "36"
      ]
     },
     "execution_count": 3,
     "metadata": {},
     "output_type": "execute_result"
    }
   ],
   "source": [
    "def lcm():\n",
    "    n1 = int(input(\"Please enter a number: \"))\n",
    "    n2 = int(input(\"Please enter a number: \"))\n",
    "    \n",
    "    if n1>n2:\n",
    "        m = n1\n",
    "    else:\n",
    "        m = n2\n",
    "        \n",
    "    while True:\n",
    "        if m%n1 == 0 and m%n2 == 0:\n",
    "            lcm = m\n",
    "            break\n",
    "        m += 1\n",
    "    return lcm\n",
    "\n",
    "lcm()"
   ]
  },
  {
   "cell_type": "markdown",
   "id": "2f459cdf",
   "metadata": {},
   "source": [
    "### 2. Write a Python Program to Find HCF?"
   ]
  },
  {
   "cell_type": "code",
   "execution_count": 12,
   "id": "3c54060c",
   "metadata": {},
   "outputs": [
    {
     "name": "stdout",
     "output_type": "stream",
     "text": [
      "Please enter a number: 54\n",
      "Please enter a number: 24\n"
     ]
    },
    {
     "data": {
      "text/plain": [
       "(6, 6)"
      ]
     },
     "execution_count": 12,
     "metadata": {},
     "output_type": "execute_result"
    }
   ],
   "source": [
    "def lcm():\n",
    "    n1 = int(input(\"Please enter a number: \"))\n",
    "    n2 = int(input(\"Please enter a number: \"))\n",
    "    \n",
    "    if n1>n2:\n",
    "        m = n2\n",
    "    else:\n",
    "        m = n1\n",
    "        \n",
    "    for i in range(1, m+1):\n",
    "        if n1%i == 0 and n2%i == 0:\n",
    "            hcf = i\n",
    "\n",
    "    return hcf\n",
    "\n",
    "lcm()"
   ]
  },
  {
   "cell_type": "markdown",
   "id": "d2c29370",
   "metadata": {},
   "source": [
    "### 3. Write a Python Program to Convert Decimal to Binary, Octal and Hexadecimal?"
   ]
  },
  {
   "cell_type": "code",
   "execution_count": 13,
   "id": "81d170c0",
   "metadata": {},
   "outputs": [
    {
     "name": "stdout",
     "output_type": "stream",
     "text": [
      "Please enter a number153\n",
      "The decimal value of 153 is:\n",
      "0b10011001 in binary.\n",
      "0o231 in octal.\n",
      "0x99 in hexadecimal.\n"
     ]
    }
   ],
   "source": [
    "a = int(input(\"Please enter a number\"))\n",
    "\n",
    "print(\"The decimal value of\", a, \"is:\")\n",
    "print(bin(a), \"in binary.\")\n",
    "print(oct(a), \"in octal.\")\n",
    "print(hex(a), \"in hexadecimal.\")"
   ]
  },
  {
   "cell_type": "markdown",
   "id": "2a16c5fd",
   "metadata": {},
   "source": [
    "### 4. Write a Python Program To Find ASCII value of a character?"
   ]
  },
  {
   "cell_type": "code",
   "execution_count": 15,
   "id": "dc72475a",
   "metadata": {},
   "outputs": [
    {
     "name": "stdout",
     "output_type": "stream",
     "text": [
      "Please enter a character: a\n",
      "The ASCII value of 'a' is  97\n"
     ]
    }
   ],
   "source": [
    "a = input(\"Please enter a character: \")    \n",
    "    \n",
    "print (\"The ASCII value of '\" + a + \"' is \", ord(a))  "
   ]
  },
  {
   "cell_type": "markdown",
   "id": "226778a0",
   "metadata": {},
   "source": [
    "### 5. Write a Python Program to Make a Simple Calculator with 4 basic mathematical operations?"
   ]
  },
  {
   "cell_type": "code",
   "execution_count": 20,
   "id": "2bdc3188",
   "metadata": {},
   "outputs": [
    {
     "name": "stdout",
     "output_type": "stream",
     "text": [
      "Enter a number: 5\n",
      "Enter operation: +\n",
      "Enter a number: 2\n"
     ]
    },
    {
     "data": {
      "text/plain": [
       "7"
      ]
     },
     "execution_count": 20,
     "metadata": {},
     "output_type": "execute_result"
    }
   ],
   "source": [
    " def calculator():\n",
    "    a = int(input(\"Enter a number: \"))\n",
    "    b = input(\"Enter operation: \")\n",
    "    c = int(input(\"Enter a number: \"))\n",
    "\n",
    "    if b == '+':\n",
    "        d = a+c\n",
    "    elif b == '-':\n",
    "        d = a-c\n",
    "    elif b == '/':\n",
    "        d = a/c\n",
    "    elif b == '*':\n",
    "        d = a*c\n",
    "    \n",
    "    return d\n",
    "\n",
    "calculator()"
   ]
  },
  {
   "cell_type": "code",
   "execution_count": null,
   "id": "e9eaa8df",
   "metadata": {},
   "outputs": [],
   "source": []
  }
 ],
 "metadata": {
  "kernelspec": {
   "display_name": "Python 3 (ipykernel)",
   "language": "python",
   "name": "python3"
  },
  "language_info": {
   "codemirror_mode": {
    "name": "ipython",
    "version": 3
   },
   "file_extension": ".py",
   "mimetype": "text/x-python",
   "name": "python",
   "nbconvert_exporter": "python",
   "pygments_lexer": "ipython3",
   "version": "3.9.13"
  }
 },
 "nbformat": 4,
 "nbformat_minor": 5
}
