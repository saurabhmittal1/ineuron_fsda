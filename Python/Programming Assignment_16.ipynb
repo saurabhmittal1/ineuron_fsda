{
 "cells": [
  {
   "cell_type": "markdown",
   "id": "e304dc88",
   "metadata": {},
   "source": [
    "## Python Basic Programming Assignment 16\n",
    "---------------------"
   ]
  },
  {
   "cell_type": "markdown",
   "id": "d82eeee0",
   "metadata": {},
   "source": [
    "### 1. Write a function that stutters a word as if someone is struggling to read it. The first two letters are repeated twice with an ellipsis ... and space after each, and then the word is pronounced with a question mark ?. Examples stutter('incredible') ➞ 'in... in... incredible?' stutter('enthusiastic') ➞ 'en... en... enthusiastic?' stutter('outstanding') ➞ 'ou... ou... outstanding?'\n",
    "\n",
    "### Hint :- Assume all input is in lower case and at least two characters long."
   ]
  },
  {
   "cell_type": "code",
   "execution_count": 1,
   "id": "02dd0ae0",
   "metadata": {},
   "outputs": [
    {
     "name": "stdout",
     "output_type": "stream",
     "text": [
      "in... in... incredible?\n",
      "en... en... enthusiastic?\n"
     ]
    }
   ],
   "source": [
    "def stutter(word):\n",
    "    word = word.lower()\n",
    "    s = word[:2]\n",
    "    return (2 * (s + '... ')) + word + '?'\n",
    "\n",
    "\n",
    "print(stutter(\"incredible\"))\n",
    "print(stutter(\"enthusiastic\"))"
   ]
  },
  {
   "cell_type": "markdown",
   "id": "47e1bd41",
   "metadata": {},
   "source": [
    "\n",
    "### 2. Create a function that takes an angle in radians and returns the corresponding angle in degrees rounded to one decimal place."
   ]
  },
  {
   "cell_type": "code",
   "execution_count": 2,
   "id": "47749061",
   "metadata": {},
   "outputs": [
    {
     "name": "stdout",
     "output_type": "stream",
     "text": [
      "degree = 286.4791395439889\n"
     ]
    }
   ],
   "source": [
    "def radian_to_degree(radian):\n",
    "    pi = 3.14159\n",
    "    \n",
    "    # Convertion formula\n",
    "    degree = radian * (180/pi)\n",
    "    return degree\n",
    " \n",
    "radian = 5\n",
    "print(\"degree =\",(radian_to_degree(radian)))"
   ]
  },
  {
   "cell_type": "markdown",
   "id": "07cad4d9",
   "metadata": {},
   "source": [
    "\n",
    "### 3. In this challenge, establish if a given integer num is a Curzon number. If 1 plus 2 elevated to num is exactly divisible by 1 plus 2 multiplied by num, then num is a Curzon number. Given a non-negative integer num, implement a function that returns True if num is a Curzon number, or False otherwise."
   ]
  },
  {
   "cell_type": "code",
   "execution_count": 3,
   "id": "27054be0",
   "metadata": {},
   "outputs": [
    {
     "name": "stdout",
     "output_type": "stream",
     "text": [
      "Please enter non-negative integer: 15\n"
     ]
    },
    {
     "data": {
      "text/plain": [
       "False"
      ]
     },
     "execution_count": 3,
     "metadata": {},
     "output_type": "execute_result"
    }
   ],
   "source": [
    "def curzon():\n",
    "    \n",
    "    num = input(\"Please enter non-negative integer: \")\n",
    "    \n",
    "    result = False\n",
    "    \n",
    "    if int(num) > 0:\n",
    "        num = int(num)\n",
    "        a = 2**num + 1 #numerator\n",
    "        b = 2*num + 1 #denominator\n",
    "        \n",
    "        if a%b == 0: #Divide both numbers if we get remender as 0 then it is Curzon number\n",
    "            result = True\n",
    "            \n",
    "    else:\n",
    "        result = False\n",
    "        \n",
    "    return result\n",
    "\n",
    "curzon()"
   ]
  },
  {
   "cell_type": "markdown",
   "id": "cfad2cfc",
   "metadata": {},
   "source": [
    "\n",
    "### 4. Given the side length x find the area of a hexagon."
   ]
  },
  {
   "cell_type": "code",
   "execution_count": 4,
   "id": "f8d1b1b6",
   "metadata": {},
   "outputs": [
    {
     "name": "stdout",
     "output_type": "stream",
     "text": [
      "Please enter length of hexagon: 5\n"
     ]
    },
    {
     "data": {
      "text/plain": [
       "64.9519052838329"
      ]
     },
     "execution_count": 4,
     "metadata": {},
     "output_type": "execute_result"
    }
   ],
   "source": [
    "def area_hexagon():\n",
    "    \n",
    "    length = float(input(\"Please enter length of hexagon: \"))\n",
    "    \n",
    "    return 3 * ( 3 ** (1/2)) * ( length **2) / 2\n",
    "\n",
    "area_hexagon()"
   ]
  },
  {
   "cell_type": "markdown",
   "id": "dbc79e02",
   "metadata": {},
   "source": [
    "\n",
    "### 5. Create a function that returns a base-2 (binary) representation of a base-10 (decimal) string number. To convert is simple: ((2) means base-2 and (10) means base-10) 010101001(2) = 1 + 8 + 32 + 128."
   ]
  },
  {
   "cell_type": "code",
   "execution_count": 5,
   "id": "1b56bba0",
   "metadata": {},
   "outputs": [
    {
     "name": "stdout",
     "output_type": "stream",
     "text": [
      "Binary of 10 is  1010\n",
      "Binary of 20 is  10100\n",
      "Binary of 30 is  11110\n",
      "Binary of 40 is  101000\n",
      "Binary of 50 is  110010\n",
      "Binary of 60 is  111100\n",
      "Binary of 70 is  1000110\n",
      "Binary of 80 is  1010000\n",
      "Binary of 90 is  1011010\n"
     ]
    }
   ],
   "source": [
    "def getBinary(a):\n",
    "    in_num = int(a)\n",
    "    out_num = bin(in_num).replace('0b',' ')\n",
    "    print('Binary of', in_num, \"is\", out_num)\n",
    "    \n",
    "for x in range(10,100,10):\n",
    "    getBinary(x)"
   ]
  },
  {
   "cell_type": "code",
   "execution_count": null,
   "id": "2e3143ae",
   "metadata": {},
   "outputs": [],
   "source": []
  }
 ],
 "metadata": {
  "kernelspec": {
   "display_name": "Python 3 (ipykernel)",
   "language": "python",
   "name": "python3"
  },
  "language_info": {
   "codemirror_mode": {
    "name": "ipython",
    "version": 3
   },
   "file_extension": ".py",
   "mimetype": "text/x-python",
   "name": "python",
   "nbconvert_exporter": "python",
   "pygments_lexer": "ipython3",
   "version": "3.9.7"
  }
 },
 "nbformat": 4,
 "nbformat_minor": 5
}
