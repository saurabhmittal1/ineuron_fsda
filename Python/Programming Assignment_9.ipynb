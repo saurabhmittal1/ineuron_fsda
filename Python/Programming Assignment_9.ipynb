{
 "cells": [
  {
   "cell_type": "markdown",
   "id": "47b9bb99",
   "metadata": {},
   "source": [
    "## Programming Assignment_9\n",
    "----------------"
   ]
  },
  {
   "cell_type": "markdown",
   "id": "c725f7a9",
   "metadata": {},
   "source": [
    "### 1. Write a Python program to check if the given number is a Disarium Number?"
   ]
  },
  {
   "cell_type": "code",
   "execution_count": 7,
   "id": "2398114d",
   "metadata": {},
   "outputs": [
    {
     "name": "stdout",
     "output_type": "stream",
     "text": [
      "Enter the Number: 150\n",
      "150 is Not a Disarium Number.\n"
     ]
    }
   ],
   "source": [
    "Number = int(input(\"Enter the Number: \"))\n",
    "length = len(str(Number))\n",
    "\n",
    "a = Number\n",
    "Sum = 0\n",
    "rem = 0\n",
    "\n",
    "while a > 0:\n",
    "    rem = a % 10\n",
    "    Sum += int(rem**length)\n",
    "    a //= 10\n",
    "    length -= 1\n",
    "\n",
    "if Sum == Number:\n",
    "    print(\"{} is a Disarium Number.\".format(Number))\n",
    "else:\n",
    "    print(\"{} is Not a Disarium Number.\".format(Number))"
   ]
  },
  {
   "cell_type": "markdown",
   "id": "f0064401",
   "metadata": {},
   "source": [
    "### 2. Write a Python program to print all disarium numbers between 1 to 100?"
   ]
  },
  {
   "cell_type": "code",
   "execution_count": 8,
   "id": "97a97fc8",
   "metadata": {},
   "outputs": [
    {
     "data": {
      "text/plain": [
       "[1, 2, 3, 4, 5, 6, 7, 8, 9, 89, 135, 175, 518, 598, 1306, 1676, 2427]"
      ]
     },
     "execution_count": 8,
     "metadata": {},
     "output_type": "execute_result"
    }
   ],
   "source": [
    "def disarium(a,b):\n",
    "    li = []\n",
    "    for Number in range(a,b+1,1):\n",
    "        length = len(str(Number))\n",
    "\n",
    "        a = Number\n",
    "        Sum = 0\n",
    "        rem = 0\n",
    "\n",
    "        while a > 0:\n",
    "            rem = a % 10\n",
    "            Sum += int(rem**length)\n",
    "            a //= 10\n",
    "            length -= 1\n",
    "\n",
    "        if Sum == Number:\n",
    "            li.append(Number)\n",
    "        \n",
    "    return li\n",
    "\n",
    "disarium(1,10000)"
   ]
  },
  {
   "cell_type": "markdown",
   "id": "31df1e4a",
   "metadata": {},
   "source": [
    "### 3. Write a Python program to check if the given number is Happy Number?"
   ]
  },
  {
   "cell_type": "code",
   "execution_count": 9,
   "id": "68c46511",
   "metadata": {},
   "outputs": [
    {
     "name": "stdout",
     "output_type": "stream",
     "text": [
      "Please enter a number: 153\n",
      "153  is an Unhappy Number!!!\n"
     ]
    }
   ],
   "source": [
    "def happyNumber(n):    \n",
    "    d = 0\n",
    "    a = 0    \n",
    "    while(n > 0):    \n",
    "        d = n % 10 \n",
    "        a += (d * d)    \n",
    "        n = n // 10   \n",
    "    return a\n",
    "\n",
    "num = int(input(\"Please enter a number: \"))\n",
    "result = num\n",
    "\n",
    "while(result != 1 and result != 4):\n",
    "    #print(result, \"1\")\n",
    "    result = happyNumber(result)\n",
    "\n",
    "#print(result,\"2\")\n",
    "     \n",
    "if(result == 1):    \n",
    "    print(num, \" is a Happy Number!!!\")   \n",
    "else:    \n",
    "    print(num, \" is an Unhappy Number!!!\")"
   ]
  },
  {
   "cell_type": "markdown",
   "id": "51b265e3",
   "metadata": {},
   "source": [
    "### 4. Write a Python program to print all happy numbers between 1 and 100?"
   ]
  },
  {
   "cell_type": "code",
   "execution_count": 11,
   "id": "40e21edb",
   "metadata": {},
   "outputs": [
    {
     "name": "stdout",
     "output_type": "stream",
     "text": [
      "[1, 7, 10, 13, 19, 23, 28, 31, 32, 44, 49, 68, 70, 79, 82, 86, 91, 94, 97, 100]\n"
     ]
    }
   ],
   "source": [
    "\"List of happy numbers between 1 and 100\"\n",
    "li = []\n",
    "for i in range(1, 101):    \n",
    "    result = i; \n",
    "\n",
    "    while(result != 1 and result != 4):\n",
    "        #print(result, \"1\")\n",
    "        result = happyNumber(result)\n",
    "\n",
    "    #print(result,\"2\")\n",
    "\n",
    "    if(result == 1):    \n",
    "        li.append(i)\n",
    "\n",
    "print(li)"
   ]
  },
  {
   "cell_type": "markdown",
   "id": "6a190ee0",
   "metadata": {},
   "source": [
    "### 5. Write a Python program to determine whether the given number is a Harshad Number?"
   ]
  },
  {
   "cell_type": "code",
   "execution_count": 14,
   "id": "8b2d0dfd",
   "metadata": {},
   "outputs": [
    {
     "name": "stdout",
     "output_type": "stream",
     "text": [
      "Please enter a number : 6\n",
      "6 is a harshad number\n"
     ]
    }
   ],
   "source": [
    "n = num = int(input(\"Please enter a number : \"))\n",
    "rem = sum = 0    \n",
    "     \n",
    "#Calculates sum of digits    \n",
    "while(num > 0):\n",
    "    rem = num%10\n",
    "    sum = sum + rem\n",
    "    num = num//10\n",
    "     \n",
    "if(n%sum == 0):\n",
    "    print(str(n) + \" is a harshad number\")\n",
    "else:\n",
    "    print(str(n) + \" is not a harshad number\")"
   ]
  },
  {
   "cell_type": "markdown",
   "id": "7a7ea92e",
   "metadata": {},
   "source": [
    "### 6. Write a Python program to print all pronic numbers between 1 and 100?"
   ]
  },
  {
   "cell_type": "code",
   "execution_count": 13,
   "id": "36047198",
   "metadata": {},
   "outputs": [
    {
     "data": {
      "text/plain": [
       "[2, 6, 12, 20, 30, 42, 56, 72, 90]"
      ]
     },
     "execution_count": 13,
     "metadata": {},
     "output_type": "execute_result"
    }
   ],
   "source": [
    "li = []\n",
    "for n in range(1,100+1):\n",
    "    for i in range(n):\n",
    "        if i * (i + 1) == n:\n",
    "            li.append(n)\n",
    "            break\n",
    "li"
   ]
  },
  {
   "cell_type": "code",
   "execution_count": null,
   "id": "73359656",
   "metadata": {},
   "outputs": [],
   "source": []
  }
 ],
 "metadata": {
  "kernelspec": {
   "display_name": "Python 3 (ipykernel)",
   "language": "python",
   "name": "python3"
  },
  "language_info": {
   "codemirror_mode": {
    "name": "ipython",
    "version": 3
   },
   "file_extension": ".py",
   "mimetype": "text/x-python",
   "name": "python",
   "nbconvert_exporter": "python",
   "pygments_lexer": "ipython3",
   "version": "3.9.13"
  }
 },
 "nbformat": 4,
 "nbformat_minor": 5
}
