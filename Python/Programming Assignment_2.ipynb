{
 "cells": [
  {
   "cell_type": "markdown",
   "id": "08c66ea5",
   "metadata": {},
   "source": [
    "## Programming Assignment_2\n",
    "-------------"
   ]
  },
  {
   "cell_type": "markdown",
   "id": "4e50cf42",
   "metadata": {},
   "source": [
    "### 1. Write a Python program to convert kilometers to miles?\n"
   ]
  },
  {
   "cell_type": "code",
   "execution_count": 4,
   "id": "e5b8d2d3",
   "metadata": {},
   "outputs": [
    {
     "name": "stdout",
     "output_type": "stream",
     "text": [
      "Please enter Kilometer : 11\n"
     ]
    },
    {
     "data": {
      "text/plain": [
       "6.836544437538844"
      ]
     },
     "execution_count": 4,
     "metadata": {},
     "output_type": "execute_result"
    }
   ],
   "source": [
    "def km_to_mile():\n",
    "    a = float(input(\"Please enter Kilometer : \"))\n",
    "    return a/1.609\n",
    "\n",
    "km_to_mile()"
   ]
  },
  {
   "cell_type": "markdown",
   "id": "0df4e6bf",
   "metadata": {},
   "source": [
    "### 2.Write a Python program to convert Celsius to Fahrenheit?"
   ]
  },
  {
   "cell_type": "code",
   "execution_count": 5,
   "id": "b3e16486",
   "metadata": {},
   "outputs": [
    {
     "name": "stdout",
     "output_type": "stream",
     "text": [
      "Please enter temperature in Celsius : 15\n"
     ]
    },
    {
     "data": {
      "text/plain": [
       "59.0"
      ]
     },
     "execution_count": 5,
     "metadata": {},
     "output_type": "execute_result"
    }
   ],
   "source": [
    "def celsius_to_fahrenheit():\n",
    "    a = float(input(\"Please enter temperature in Celsius : \"))\n",
    "    return (a*9/5) + 32\n",
    "\n",
    "celsius_to_fahrenheit()"
   ]
  },
  {
   "cell_type": "markdown",
   "id": "46129b8e",
   "metadata": {},
   "source": [
    "### 3. Write a Python program to display calendar?\n"
   ]
  },
  {
   "cell_type": "code",
   "execution_count": 18,
   "id": "a73f1765",
   "metadata": {},
   "outputs": [
    {
     "name": "stdout",
     "output_type": "stream",
     "text": [
      "Enter year: 2023\n",
      "Enter month: 1\n",
      "\n",
      "\n",
      "    January 2023\n",
      "Mo Tu We Th Fr Sa Su\n",
      "                   1\n",
      " 2  3  4  5  6  7  8\n",
      " 9 10 11 12 13 14 15\n",
      "16 17 18 19 20 21 22\n",
      "23 24 25 26 27 28 29\n",
      "30 31\n",
      "\n"
     ]
    }
   ],
   "source": [
    "import calendar\n",
    "\n",
    "yy = int(input(\"Enter year: \"))\n",
    "mm = int(input(\"Enter month: \"))\n",
    "\n",
    "# displaying the calendar\n",
    "print()\n",
    "print()\n",
    "print(calendar.month(yy, mm))"
   ]
  },
  {
   "cell_type": "markdown",
   "id": "db2bf0f7",
   "metadata": {},
   "source": [
    "### 4. Write a Python program to solve quadratic equation?"
   ]
  },
  {
   "cell_type": "code",
   "execution_count": 15,
   "id": "854cf5ac",
   "metadata": {},
   "outputs": [
    {
     "name": "stdout",
     "output_type": "stream",
     "text": [
      "Enter a: 1\n",
      "Enter b: -7\n",
      "Enter c: -12\n",
      "Real and Different roots \n",
      "8.424428900898052\n",
      "-1.424428900898052\n"
     ]
    }
   ],
   "source": [
    "# Quadratic equation is ax**2 + bx + c = 0\n",
    "\n",
    "def quadratic_eq():\n",
    "    a = float(input(\"Enter a: \"))\n",
    "    b = float(input(\"Enter b: \"))\n",
    "    c = float(input(\"Enter c: \"))\n",
    "    \n",
    "    d = (b**2) - (4*a*c) #Discriminant\n",
    "    sqrt = d**(0.5)\n",
    "    \n",
    "    if d > 0: \n",
    "        print(\"Real and Different roots \") \n",
    "        print((-b + sqrt)/(2 * a)) \n",
    "        print((-b - sqrt)/(2 * a)) \n",
    "      \n",
    "    elif d == 0: \n",
    "        print(\"Real and same roots\") \n",
    "        print(-b / (2 * a)) \n",
    "      \n",
    "    # when discriminant is less than 0\n",
    "    else:\n",
    "        print(\"Complex Roots\") \n",
    "        print(- b / (2 * a), \" + i\", sqrt) \n",
    "        print(- b / (2 * a), \" - i\", sqrt)\n",
    "        \n",
    "quadratic_eq()"
   ]
  },
  {
   "cell_type": "markdown",
   "id": "f70f74c9",
   "metadata": {},
   "source": [
    "### 5. Write a Python program to swap two variables without temp variable?"
   ]
  },
  {
   "cell_type": "code",
   "execution_count": 17,
   "id": "bd9173f5",
   "metadata": {},
   "outputs": [
    {
     "name": "stdout",
     "output_type": "stream",
     "text": [
      "Enter 1st Variable: a\n",
      "Enter 1st Variable: b\n",
      "A:  b\n",
      "B:  a\n"
     ]
    }
   ],
   "source": [
    "def swap_variable():\n",
    "    a = input(\"Enter 1st Variable: \")\n",
    "    b = input(\"Enter 1st Variable: \")\n",
    "    \n",
    "    a,b = b,a\n",
    "    print(\"A: \", a)\n",
    "    print(\"B: \", b)\n",
    "    \n",
    "swap_variable()"
   ]
  },
  {
   "cell_type": "code",
   "execution_count": null,
   "id": "9f407a7b",
   "metadata": {},
   "outputs": [],
   "source": []
  }
 ],
 "metadata": {
  "kernelspec": {
   "display_name": "Python 3 (ipykernel)",
   "language": "python",
   "name": "python3"
  },
  "language_info": {
   "codemirror_mode": {
    "name": "ipython",
    "version": 3
   },
   "file_extension": ".py",
   "mimetype": "text/x-python",
   "name": "python",
   "nbconvert_exporter": "python",
   "pygments_lexer": "ipython3",
   "version": "3.9.13"
  }
 },
 "nbformat": 4,
 "nbformat_minor": 5
}
