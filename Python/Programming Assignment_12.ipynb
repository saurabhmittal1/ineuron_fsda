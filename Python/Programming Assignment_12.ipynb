{
 "cells": [
  {
   "cell_type": "markdown",
   "id": "b7231b20",
   "metadata": {},
   "source": [
    "# Python Basic Programming Assignment 12\n",
    "-------------"
   ]
  },
  {
   "cell_type": "markdown",
   "id": "d2ec324d",
   "metadata": {},
   "source": [
    "### 1. Write a Python program to Extract Unique values dictionary values?"
   ]
  },
  {
   "cell_type": "code",
   "execution_count": 1,
   "id": "3a9a0982",
   "metadata": {},
   "outputs": [
    {
     "name": "stdout",
     "output_type": "stream",
     "text": [
      "The unique values in dictionary list is : [1, 2, 3, 4, 5, 6, 7, 8, 9, 10, 11, 20, 21]\n"
     ]
    }
   ],
   "source": [
    "test_dict = {'a' : [5, 6, 7, 8, 9, 10],\n",
    "            'b' : [10, 2, 11, 7, 5, 4],\n",
    "            'c' : [6, 1, 2, 1, 20, 8],\n",
    "            'd' : [1, 2, 3, 4, 5, 11, 21, 20]}\n",
    "\n",
    "x=[]\n",
    "\n",
    "for i in test_dict.keys():\n",
    "    x.extend(test_dict[i])\n",
    "\n",
    "x=list(set(x))\n",
    "x.sort()\n",
    "\n",
    "# printing result\n",
    "print(\"The unique values in dictionary list is : \" + str(x))"
   ]
  },
  {
   "cell_type": "markdown",
   "id": "203bcbc3",
   "metadata": {},
   "source": [
    "### 2. Write a Python program to find the sum of all items in a dictionary?"
   ]
  },
  {
   "cell_type": "code",
   "execution_count": 2,
   "id": "d5629798",
   "metadata": {},
   "outputs": [
    {
     "name": "stdout",
     "output_type": "stream",
     "text": [
      "The sum of all items in a dictionary : 189\n"
     ]
    }
   ],
   "source": [
    "test_dict = {'a' : [5, 6, 7, 8, 9, 10],\n",
    "            'b' : [10, 2, 11, 7, 5, 4],\n",
    "            'c' : [6, 1, 2, 1, 20, 8],\n",
    "            'd' : [1, 2, 3, 4, 5, 11, 21, 20]}\n",
    "\n",
    "x = []\n",
    "s = 0\n",
    "\n",
    "for i in test_dict.keys():\n",
    "    x.extend(test_dict[i])\n",
    "    \n",
    "for i in x:\n",
    "    s+=i\n",
    "\n",
    "# printing result\n",
    "print(\"The sum of all items in a dictionary : \" + str(s))"
   ]
  },
  {
   "cell_type": "markdown",
   "id": "edfbc682",
   "metadata": {},
   "source": [
    "### 3. Write a Python program to Merging two Dictionaries?"
   ]
  },
  {
   "cell_type": "code",
   "execution_count": 3,
   "id": "77385df8",
   "metadata": {},
   "outputs": [
    {
     "name": "stdout",
     "output_type": "stream",
     "text": [
      "{1: 'a', 2: 'c', 4: 'd'}\n"
     ]
    }
   ],
   "source": [
    "dict_1 = {1: 'a', 2: 'b'}\n",
    "dict_2 = {2: 'c', 4: 'd'}\n",
    "\n",
    "print(dict_1 | dict_2)"
   ]
  },
  {
   "cell_type": "markdown",
   "id": "62eaf687",
   "metadata": {},
   "source": [
    "### 4. Write a Python program to convert key-values list to flat dictionary?"
   ]
  },
  {
   "cell_type": "code",
   "execution_count": 4,
   "id": "23a32fb4",
   "metadata": {},
   "outputs": [
    {
     "data": {
      "text/plain": [
       "{1: 'Jan', 2: 'Feb', 3: 'March'}"
      ]
     },
     "execution_count": 4,
     "metadata": {},
     "output_type": "execute_result"
    }
   ],
   "source": [
    "# Python3 code to demonstrate working of\n",
    "# Convert key-values list to flat dictionary\n",
    "# initializing dictionary\n",
    "test_dict = {'month_no' : [1, 2, 3], 'month_name' : ['Jan', 'Feb', 'March']}\n",
    "\n",
    "my_result = dict(zip(test_dict['month_no'], test_dict['month_name']))\n",
    "\n",
    "my_result"
   ]
  },
  {
   "cell_type": "markdown",
   "id": "fcc5015f",
   "metadata": {},
   "source": [
    "### 5. Write a Python program to insertion at the beginning in OrderedDict?"
   ]
  },
  {
   "cell_type": "code",
   "execution_count": 5,
   "id": "62845dae",
   "metadata": {},
   "outputs": [
    {
     "name": "stdout",
     "output_type": "stream",
     "text": [
      "Result : OrderedDict([('Krish', '3'), ('Saurabh', '1'), ('Sudhanshu', '2')])\n"
     ]
    }
   ],
   "source": [
    "from collections import OrderedDict\n",
    " \n",
    "a = OrderedDict([('Saurabh', '1'), ('Sudhanshu', '2')])\n",
    " \n",
    "\n",
    "a.update({'Krish':'3'})\n",
    "a.move_to_end('Krish', last = False)\n",
    " \n",
    "# print result\n",
    "print (\"Result : \"+str(a))"
   ]
  },
  {
   "cell_type": "markdown",
   "id": "5978c9ab",
   "metadata": {},
   "source": [
    "### 6. Write a Python program to check order of character in string using OrderedDict()?"
   ]
  },
  {
   "cell_type": "code",
   "execution_count": 6,
   "id": "163f422c",
   "metadata": {},
   "outputs": [
    {
     "name": "stdout",
     "output_type": "stream",
     "text": [
      "Please enter a string Saurabh\n",
      "Pattern you are looking for au\n",
      "true\n"
     ]
    }
   ],
   "source": [
    "# Function to check if string follows order of\n",
    "# characters defined by a pattern\n",
    "from collections import OrderedDict\n",
    "\n",
    "def checkOrder(input, pattern):\n",
    "\n",
    "    a = OrderedDict.fromkeys(input)\n",
    "\n",
    "    ptrlen = 0\n",
    "    \n",
    "    for key,value in a.items():\n",
    "        if (key == pattern[ptrlen]):\n",
    "            ptrlen = ptrlen + 1\n",
    "        \n",
    "        if (ptrlen == (len(pattern))):\n",
    "            return 'true'\n",
    "\n",
    "    return 'false'\n",
    "\n",
    "a = input(\"Please enter a string \")\n",
    "pattern = input(\"Pattern you are looking for \")\n",
    "print (checkOrder(a,pattern))"
   ]
  },
  {
   "cell_type": "markdown",
   "id": "f330da77",
   "metadata": {},
   "source": [
    "### 7. Write a Python program to sort Python Dictionaries by Key or Value?"
   ]
  },
  {
   "cell_type": "code",
   "execution_count": 7,
   "id": "0e77687f",
   "metadata": {},
   "outputs": [
    {
     "name": "stdout",
     "output_type": "stream",
     "text": [
      "soreted by key ['Abhinav', 'Krish', 'Sanjeev', 'Saurabh', 'Sudhanshu']\n",
      "sorted by item [('Abhinav', 12), ('Krish', 1), ('Sanjeev', 15), ('Saurabh', 20), ('Sudhanshu', 2)]\n",
      "sorted by value [1, 2, 12, 15, 20]\n"
     ]
    }
   ],
   "source": [
    "a = {'Krish': 1, 'Sudhanshu': 2,\n",
    "        'Sanjeev': 15, 'Abhinav': 12, 'Saurabh': 20}\n",
    " \n",
    "print(\"soreted by key\",sorted(a.keys()))\n",
    "print(\"sorted by item\",sorted(a.items()))\n",
    "print(\"sorted by value\",sorted(a.values()))"
   ]
  },
  {
   "cell_type": "code",
   "execution_count": null,
   "id": "47ab18a2",
   "metadata": {},
   "outputs": [],
   "source": []
  }
 ],
 "metadata": {
  "kernelspec": {
   "display_name": "Python 3 (ipykernel)",
   "language": "python",
   "name": "python3"
  },
  "language_info": {
   "codemirror_mode": {
    "name": "ipython",
    "version": 3
   },
   "file_extension": ".py",
   "mimetype": "text/x-python",
   "name": "python",
   "nbconvert_exporter": "python",
   "pygments_lexer": "ipython3",
   "version": "3.9.7"
  }
 },
 "nbformat": 4,
 "nbformat_minor": 5
}
