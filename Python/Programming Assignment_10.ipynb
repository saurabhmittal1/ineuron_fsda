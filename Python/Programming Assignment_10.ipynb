{
 "cells": [
  {
   "cell_type": "markdown",
   "id": "3dcb940f",
   "metadata": {},
   "source": [
    "## Python Basic Programming Assignment 10"
   ]
  },
  {
   "cell_type": "markdown",
   "id": "6720790a",
   "metadata": {},
   "source": [
    "### 1. Write a Python program to find sum of elements in list?"
   ]
  },
  {
   "cell_type": "code",
   "execution_count": 3,
   "id": "58210207",
   "metadata": {},
   "outputs": [
    {
     "name": "stdout",
     "output_type": "stream",
     "text": [
      "Sum of List is 10912\n"
     ]
    }
   ],
   "source": [
    "li = [2, 6, 12, 20, 30, 42, 56, 72, 90, 110, 132, 156, 182, 210, 240, 272, \n",
    "      306, 342, 380, 420, 462, 506, 552, 600, 650, 702, 756, 812, 870, 930, 992]\n",
    "sum = 0\n",
    "\n",
    "for i in li:\n",
    "    sum += i\n",
    "    \n",
    "print(\"Sum of List is\",sum)"
   ]
  },
  {
   "cell_type": "markdown",
   "id": "fe1137c3",
   "metadata": {},
   "source": [
    "### 2. Write a Python program to  Multiply all numbers in the list?"
   ]
  },
  {
   "cell_type": "code",
   "execution_count": 4,
   "id": "6a59206c",
   "metadata": {},
   "outputs": [
    {
     "name": "stdout",
     "output_type": "stream",
     "text": [
      "Multiple of List is 2163682417044562974786443716998736989202141037210684620800000000000000\n"
     ]
    }
   ],
   "source": [
    "li = [2, 6, 12, 20, 30, 42, 56, 72, 90, 110, 132, 156, 182, 210, 240, 272, \n",
    "      306, 342, 380, 420, 462, 506, 552, 600, 650, 702, 756, 812, 870, 930, 992]\n",
    "multiple = 1\n",
    "\n",
    "for i in li:\n",
    "    multiple *= i\n",
    "    \n",
    "print(\"Multiple of List is\",multiple)"
   ]
  },
  {
   "cell_type": "markdown",
   "id": "078681db",
   "metadata": {},
   "source": [
    "### 3. Write a Python program to find smallest number in a list?"
   ]
  },
  {
   "cell_type": "code",
   "execution_count": 5,
   "id": "6ef93fde",
   "metadata": {},
   "outputs": [
    {
     "name": "stdout",
     "output_type": "stream",
     "text": [
      "Smallest number is 2\n"
     ]
    }
   ],
   "source": [
    "l = [2, 6, 12, 20, 30, 42, 56, 72, 90, 110, 132, 156, 182, 210, 240, 272, \n",
    "      306, 342, 380, 420, 462, 506, 552, 600, 650, 702, 756, 812, 870, 930, 992]\n",
    "li = l[::-1]\n",
    "\n",
    "smallest = li[0]\n",
    "\n",
    "for i in li:\n",
    "    \n",
    "    if smallest > i:\n",
    "        smallest = i\n",
    "    \n",
    "print(\"Smallest number is\",smallest)"
   ]
  },
  {
   "cell_type": "markdown",
   "id": "12b04397",
   "metadata": {},
   "source": [
    "### 4. Write a Python program to find largest number in a list?"
   ]
  },
  {
   "cell_type": "code",
   "execution_count": 6,
   "id": "94e145cd",
   "metadata": {},
   "outputs": [
    {
     "name": "stdout",
     "output_type": "stream",
     "text": [
      "Largest number is 992\n"
     ]
    }
   ],
   "source": [
    "li = [2, 6, 12, 20, 30, 42, 56, 72, 90, 110, 132, 156, 182, 210, 240, 272, \n",
    "      306, 342, 380, 420, 462, 506, 552, 600, 650, 702, 756, 812, 870, 930, 992]\n",
    "\n",
    "largest = li[0]\n",
    "\n",
    "for i in li:\n",
    "    \n",
    "    if largest < i:\n",
    "        largest = i\n",
    "    \n",
    "print(\"Largest number is\",largest)"
   ]
  },
  {
   "cell_type": "markdown",
   "id": "86442b51",
   "metadata": {},
   "source": [
    "### 5. Write a Python program to find second largest number in a list?"
   ]
  },
  {
   "cell_type": "code",
   "execution_count": 7,
   "id": "d6e8fb09",
   "metadata": {},
   "outputs": [
    {
     "name": "stdout",
     "output_type": "stream",
     "text": [
      "Second Largest number is 930\n"
     ]
    }
   ],
   "source": [
    "li = [2, 6, 12, 20, 30, 42, 56, 72, 90, 110, 132, 156, 182, 210, 240, 272, \n",
    "      306, 342, 380, 420, 462, 506, 552, 600, 650, 702, 756, 812, 870, 930, 992]\n",
    "\n",
    "largest = li[0]\n",
    "second_largest = li[0]\n",
    "\n",
    "for i in li:\n",
    "    \n",
    "    if largest < i:\n",
    "        largest, second_largest = i, largest\n",
    "\n",
    "print(\"Second Largest number is\",second_largest)"
   ]
  },
  {
   "cell_type": "markdown",
   "id": "10964d7d",
   "metadata": {},
   "source": [
    "### 6. Write a Python program to find N largest elements from a list?"
   ]
  },
  {
   "cell_type": "code",
   "execution_count": 8,
   "id": "d20037e9",
   "metadata": {},
   "outputs": [
    {
     "name": "stdout",
     "output_type": "stream",
     "text": [
      "[992, 930, 870, 812, 756]\n"
     ]
    }
   ],
   "source": [
    "li = [2, 6, 12, 20, 30, 42, 56, 72, 90, 110, 132, 156, 182, 210, 240, 272, \n",
    "      306, 342, 380, 420, 462, 506, 552, 600, 650, 702, 756, 812, 870, 930, 992]\n",
    "\n",
    "def n_largest(li, no):\n",
    "    result = []\n",
    " \n",
    "    for i in range(0, no):\n",
    "        max1 = 0\n",
    "         \n",
    "        for j in range(len(li)):    \n",
    "            if li[j] > max1:\n",
    "                max1 = li[j];\n",
    "                 \n",
    "        li.remove(max1);\n",
    "        result.append(max1)\n",
    "         \n",
    "    return print(result)\n",
    "\n",
    "n_largest(li, 5)"
   ]
  },
  {
   "cell_type": "markdown",
   "id": "2f1a1e98",
   "metadata": {},
   "source": [
    "### 7. Write a Python program to print even numbers in a list?"
   ]
  },
  {
   "cell_type": "code",
   "execution_count": 9,
   "id": "ac10413b",
   "metadata": {},
   "outputs": [
    {
     "name": "stdout",
     "output_type": "stream",
     "text": [
      "List of Even numbers in the list\n",
      "[2, 6, 12, 20, 30, 42, 56, 72, 90, 110, 132, 156, 182, 210, 240, 272, 306, 342, 380, 420, 462, 506, 552, 600, 650, 702, 756, 812, 870, 930, 992]\n"
     ]
    }
   ],
   "source": [
    "li = [2, 6, 12, 20, 30, 42, 56, 72, 90, 110, 132, 156, 182, 210, 240, 272, \n",
    "      306, 342, 380, 420, 462, 506, 552, 600, 650, 702, 756, 812, 870, 930, 992]\n",
    "result = []\n",
    "for i in li:\n",
    "    if i%2==0:\n",
    "        result.append(i)\n",
    "\n",
    "print(\"List of Even numbers in the list\")\n",
    "print(result)"
   ]
  },
  {
   "cell_type": "markdown",
   "id": "989bb324",
   "metadata": {},
   "source": [
    "### 8. Write a Python program to print odd numbers in a List?"
   ]
  },
  {
   "cell_type": "code",
   "execution_count": 10,
   "id": "7b9e3fa2",
   "metadata": {},
   "outputs": [
    {
     "name": "stdout",
     "output_type": "stream",
     "text": [
      "List of Odd numbers in the list\n",
      "[1, 3, 5, 7, 9, 89, 135, 175, 2427]\n"
     ]
    }
   ],
   "source": [
    "li = [1, 2, 3, 4, 5, 6, 7, 8, 9, 89, 135, 175, 518, 598, 1306, 1676, 2427]\n",
    "\n",
    "result = []\n",
    "for i in li:\n",
    "    if i%2!=0:\n",
    "        result.append(i)\n",
    "\n",
    "print(\"List of Odd numbers in the list\")\n",
    "print(result)"
   ]
  },
  {
   "cell_type": "markdown",
   "id": "185b7b13",
   "metadata": {},
   "source": [
    "### 9. Write a Python program to Remove empty List from List?"
   ]
  },
  {
   "cell_type": "code",
   "execution_count": 11,
   "id": "16d083f6",
   "metadata": {},
   "outputs": [
    {
     "data": {
      "text/plain": [
       "[2, 3, 4, 1, 5, 8]"
      ]
     },
     "execution_count": 11,
     "metadata": {},
     "output_type": "execute_result"
    }
   ],
   "source": [
    "li = [2, 3,4, [], 1, [], 5, 8]\n",
    "\n",
    "def remove_empty_list(li):\n",
    "    result = []\n",
    "    for i in li:\n",
    "        if i:\n",
    "            result.append(i)\n",
    "    return result\n",
    "\n",
    "remove_empty_list(li)"
   ]
  },
  {
   "cell_type": "markdown",
   "id": "278cfacc",
   "metadata": {},
   "source": [
    "### 10. Write a Python program to Cloning or Copying a list?"
   ]
  },
  {
   "cell_type": "code",
   "execution_count": 12,
   "id": "aab976ac",
   "metadata": {},
   "outputs": [
    {
     "name": "stdout",
     "output_type": "stream",
     "text": [
      "[2, 6, 12, 20, 30, 42, 56, 72, 90, 110, 132, 156, 182, 210, 240, 272, 306, 342, 380, 420, 462, 506, 552, 600, 650, 702, 756, 812, 870, 930, 992]\n"
     ]
    }
   ],
   "source": [
    "li = [2, 6, 12, 20, 30, 42, 56, 72, 90, 110, 132, 156, 182, 210, 240, 272, \n",
    "      306, 342, 380, 420, 462, 506, 552, 600, 650, 702, 756, 812, 870, 930, 992]\n",
    "\n",
    "l = li[:]\n",
    "\n",
    "print(l)"
   ]
  },
  {
   "cell_type": "markdown",
   "id": "b359bedf",
   "metadata": {},
   "source": [
    "### 11. Write a Python program to Count occurrences of an element in a list?"
   ]
  },
  {
   "cell_type": "code",
   "execution_count": 13,
   "id": "2456f781",
   "metadata": {},
   "outputs": [
    {
     "name": "stdout",
     "output_type": "stream",
     "text": [
      "8 has occurred 6 times\n"
     ]
    }
   ],
   "source": [
    "def count_occurance(li, x):\n",
    "    count = 0\n",
    "    for i in li:\n",
    "        if (i == x):\n",
    "            count = count + 1\n",
    "    return count\n",
    " \n",
    "li = [8, 6, 8, 10, 8, 5, 7, 20, 10, 8, 8, 6, 4, 4, 3, 5, 7, 8]\n",
    "x = 8\n",
    "print('{} has occurred {} times'.format(x, count_occurance(li, x)))"
   ]
  },
  {
   "cell_type": "code",
   "execution_count": null,
   "id": "24d525ed",
   "metadata": {},
   "outputs": [],
   "source": []
  }
 ],
 "metadata": {
  "kernelspec": {
   "display_name": "Python 3 (ipykernel)",
   "language": "python",
   "name": "python3"
  },
  "language_info": {
   "codemirror_mode": {
    "name": "ipython",
    "version": 3
   },
   "file_extension": ".py",
   "mimetype": "text/x-python",
   "name": "python",
   "nbconvert_exporter": "python",
   "pygments_lexer": "ipython3",
   "version": "3.9.13"
  }
 },
 "nbformat": 4,
 "nbformat_minor": 5
}
